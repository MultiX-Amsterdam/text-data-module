{
 "cells": [
  {
   "cell_type": "markdown",
   "metadata": {},
   "source": [
    "# Tutorial (Text Data Processing)"
   ]
  },
  {
   "cell_type": "markdown",
   "metadata": {},
   "source": [
    "(Last updated: Mar 6, 2023)"
   ]
  },
  {
   "cell_type": "markdown",
   "metadata": {},
   "source": [
    "This tutorial will familiarize you with the data science pipeline of processing text data. We will go through the various steps involved in the Natural Language Processing (NLP) pipeline for topic modelling and topic classification, including tokenization, lemmatization, and obtaining word embeddings. We will also build a neural network using PyTorch for multi-class topic classification using the dataset.\n",
    "The AG's News Topic Classification Dataset contains news articles from four different categories, making it a nice source of text data for NLP tasks. We will guide you through the process of understanding the dataset, implementing various NLP techniques, and building a model for classification."
   ]
  },
  {
   "cell_type": "markdown",
   "metadata": {},
   "source": [
    "You can use the following links to jump to the tasks and assignments:\n",
    "\n",
    "[table of contents]"
   ]
  },
  {
   "cell_type": "markdown",
   "metadata": {},
   "source": [
    "## Scenario"
   ]
  },
  {
   "cell_type": "markdown",
   "metadata": {},
   "source": [
    "The [AG's News Topic Classification Dataset](https://github.com/mhjabreel/CharCnn_Keras/tree/master/data/ag_news_csv) is a collection of over 1 million news articles from more than 2000 news sources. The dataset was created by selecting the 4 largest classes from the original corpus, resulting in 120,000 training samples and 7,600 testing samples. The dataset is provided by the academic community for research purposes in data mining, information retrieval, and other non-commercial activities. We will use it to demonstrate various NLP techniques on real data, and in the end make 2 models with this data. The files train.csv and test.csv contain all the training and testing samples as comma-separated values with 3 columns: class index, title, and description. Download train.csv and test.csv for the following tasks. "
   ]
  },
  {
   "cell_type": "markdown",
   "metadata": {},
   "source": [
    "## Import Packages"
   ]
  },
  {
   "cell_type": "markdown",
   "metadata": {},
   "source": [
    "We put all the packages that are needed for this tutorial below:"
   ]
  },
  {
   "cell_type": "code",
   "execution_count": null,
   "metadata": {},
   "outputs": [],
   "source": [
    "import matplotlib.pyplot as plt\n",
    "import nltk\n",
    "import numpy as np\n",
    "import pandas as pd\n",
    "import seaborn as sns\n",
    "import spacy\n",
    "import torch\n",
    "import torch.nn as nn\n",
    "import torch.optim as optim\n",
    "\n",
    "from gensim.models import Word2Vec\n",
    "\n",
    "from nltk.corpus import stopwords, wordnet\n",
    "from nltk.stem import SnowballStemmer, WordNetLemmatizer\n",
    "from nltk.tokenize import word_tokenize\n",
    "\n",
    "from sklearn.cluster import KMeans\n",
    "from sklearn.decomposition import LatentDirichletAllocation\n",
    "from sklearn.feature_extraction.text import CountVectorizer\n",
    "from sklearn.metrics import adjusted_mutual_info_score, adjusted_rand_score, confusion_matrix\n",
    "\n",
    "from tqdm.notebook import tqdm\n",
    "\n",
    "from xml.sax import saxutils as su"
   ]
  },
  {
   "cell_type": "markdown",
   "metadata": {},
   "source": [
    "## Task Answers"
   ]
  },
  {
   "cell_type": "markdown",
   "metadata": {},
   "source": [
    "The code block below contains answers for the assignments in this tutorial. **Do not check the answers in the next cell before practicing the tasks.**"
   ]
  },
  {
   "cell_type": "code",
   "execution_count": null,
   "metadata": {},
   "outputs": [],
   "source": [
    "def check_answer_df(df_result, df_answer, n=1):\n",
    "    \"\"\"\n",
    "    This function checks if two output dataframes are the same.\n",
    "    \n",
    "    Parameters\n",
    "    ----------\n",
    "    df_result : pandas.DataFrame\n",
    "        The result from the output of a function.\n",
    "    df_answer: pandas.DataFrame\n",
    "        The expected output of the function.\n",
    "    n : int\n",
    "        The numbering of the test case.\n",
    "    \"\"\"\n",
    "    try:\n",
    "            assert df_answer.equals(df_result)\n",
    "        print(f\"Test case {n} passed.\")\n",
    "    except:\n",
    "        print(f\"Test case {n} failed.\")\n",
    "        print(\"Your output is:\")\n",
    "        display(df_result)\n",
    "        print(\"Expected output is:\")\n",
    "        display(df_answer)\n",
    "        \n",
    "def check_answer_np(arr_result, arr_answer, n=1):\n",
    "    \"\"\"\n",
    "    This function checks if two output dataframes are the same.\n",
    "    \n",
    "    Parameters\n",
    "    ----------\n",
    "    df_result : pandas.DataFrame\n",
    "        The result from the output of a function.\n",
    "    df_answer: pandas.DataFrame\n",
    "        The expected output of the function.\n",
    "    n : int\n",
    "        The numbering of the test case.\n",
    "    \"\"\"\n",
    "    try:\n",
    "        assert np.array_equal(arr_result, arr_answer)\n",
    "        print(f\"Test case {n} passed.\")\n",
    "    except:\n",
    "        print(f\"Test case {n} failed.\")\n",
    "        print(\"Your output is:\")\n",
    "        print(arr_result)\n",
    "        print(\"Expected output is:\")\n",
    "        print(arr_answer)\n",
    "        \n",
    "def answer_tokenize_and_lemmatize(df):\n",
    "    \"\"\"\n",
    "    Tokenize and lemmatize the text in the dataset.\n",
    "    \n",
    "    Parameters\n",
    "    ----------\n",
    "    df : pandas.DataFrame\n",
    "        The dataframe containing at least the text column.\n",
    "         \n",
    "    Returns\n",
    "    -------\n",
    "    pandas.DataFrame\n",
    "        The dataframe with the added tokens column.\n",
    "    \"\"\"\n",
    "    # Copy the dataframe to avoid editing the original one.\n",
    "    df = df.copy(deep=True)\n",
    "    \n",
    "    # Add progress bar because lemmatizer can take a while.\n",
    "    tqdm.pandas()\n",
    "\n",
    "    # Apply the tokenizer to create the tokens column.\n",
    "    df['tokens'] = df['text'].progress_apply(word_tokenize)\n",
    "    \n",
    "    # Apply the lemmatizer on every word in the tokens list.\n",
    "    df['tokens'] = df['tokens'].progress_apply(lambda tokens: [lemmatizer.lemmatize(token, wordnet_pos(tag)) for token, tag in nltk.pos_tag(tokens)])\n",
    "    return df\n",
    "\n",
    "\n",
    "def answer_most_used_words(df, token_col='tokens'):\n",
    "    \"\"\"\n",
    "    Generate a dataframe with the 5 most used words per class, and their count.\n",
    "    \n",
    "    Parameters\n",
    "    ----------\n",
    "    df : pandas.DataFrame\n",
    "        The dataframe containing at least the class and tokens columns.\n",
    "         \n",
    "    Returns\n",
    "    -------\n",
    "    pandas.DataFrame\n",
    "        The dataframe with 5 rows per class, and an added 'count' column.\n",
    "        The dataframe is sorted in ascending order on the class and in descending order on the count.\n",
    "    \"\"\"\n",
    "    # Copy the dataframe to avoid editing the original one.\n",
    "    df = df.copy(deep=True)\n",
    "    \n",
    "    # Filter out non-words\n",
    "    df[token_col] = df[token_col].apply(lambda tokens: [token for token in tokens if token.isalpha()])\n",
    "    \n",
    "    # Explode the tokens so that every token gets its own row.\n",
    "    df = df.explode(token_col)\n",
    "    \n",
    "    # Option 1: groupby on class and token, get the size of how many rows per item, \n",
    "    # add that as a column.\n",
    "    counts = df.groupby(['class', token_col]).size().reset_index(name='count')\n",
    "    \n",
    "    # Option 2: make a pivot table based on the class and token based on how many\n",
    "    # rows per combination there are , add counts as a column.\n",
    "    # counts = counts.pivot_table(index=['class', 'tokens'], aggfunc='size').reset_index(name='count')\n",
    "    \n",
    "    # Sort the values on the class and count, get only the first 5 rows per class.\n",
    "    counts = counts.sort_values(['class', 'count'], ascending=[True, False]).groupby('class').head()\n",
    "\n",
    "    return counts\n",
    "\n",
    "def answer_remove_stopwords(df):\n",
    "    \"\"\"\n",
    "    Remove stopwords from the tokens.\n",
    "    \n",
    "    Parameters\n",
    "    ----------\n",
    "    df : pandas.DataFrame\n",
    "        The dataframe containing at least the tokens column.\n",
    "         \n",
    "    Returns\n",
    "    -------\n",
    "    pandas.DataFrame\n",
    "        The dataframe with stopwords removed from the tokens column.\n",
    "    \"\"\"\n",
    "    # Copy the dataframe to avoid editing the original one.\n",
    "    df = df.copy(deep=True)\n",
    "    \n",
    "    # Using a set for quicker lookups.\n",
    "    stopwords_set = set(stopwords_list)\n",
    "    \n",
    "    # Filter stopwords from tokens.\n",
    "    df['tokens'] = df['tokens'].apply(lambda tokens: [token for token in tokens if token.lower() not in stopwords_set])\n",
    "    \n",
    "    return df\n",
    "\n",
    "def answer_spacy_tokens(df):\n",
    "    \"\"\"\n",
    "    Add a column with a list of lemmatized tokens, without stopwords.\n",
    "    \n",
    "    Parameters\n",
    "    ----------\n",
    "    df : pandas.DataFrame\n",
    "        The dataframe containing at least the doc column.\n",
    "         \n",
    "    Returns\n",
    "    -------\n",
    "    pandas.DataFrame\n",
    "        The dataframe with the spacy_tokens column.\n",
    "    \"\"\"\n",
    "    # Copy the dataframe to avoid editing the original one.\n",
    "    df = df.copy(deep=True)\n",
    "    \n",
    "    df['spacy_tokens'] = df['doc'].apply(lambda tokens: [token.lemma_ for token in tokens if not token.is_stop])\n",
    "    \n",
    "    return df\n",
    "\n",
    "def answer_largest_proportion(arr):\n",
    "    \"\"\"\n",
    "    For every row, get the column number where it has the largest value.\n",
    "    \n",
    "    Parameters\n",
    "    ----------\n",
    "    arr : numpy.array\n",
    "        The array with the amount of topics as the amount of columns\n",
    "        and the amount of documents as the number of rows.\n",
    "        Every row should sum up to 1.\n",
    "         \n",
    "    Returns\n",
    "    -------\n",
    "    pandas.DataFrame\n",
    "        The 1-dimensional array containing the label of the topic\n",
    "        the document has the largest proportion in.\n",
    "    \"\"\"\n",
    "    return np.argmax(arr, axis=1)"
   ]
  },
  {
   "cell_type": "markdown",
   "metadata": {},
   "source": [
    "## Task 3: Preprocess Text Data"
   ]
  },
  {
   "cell_type": "markdown",
   "metadata": {},
   "source": [
    "In this task, we will preprocess the text data from the AG News Dataset. First, we need to load the files."
   ]
  },
  {
   "cell_type": "code",
   "execution_count": null,
   "metadata": {},
   "outputs": [],
   "source": [
    "df_train = pd.read_csv('train.csv')\n",
    "df_test = pd.read_csv('test.csv')\n",
    "\n",
    "display(df_train, df_test)"
   ]
  },
  {
   "cell_type": "markdown",
   "metadata": {},
   "source": [
    "As you can see, all the classes are distributed evenly in the train and test data."
   ]
  },
  {
   "cell_type": "code",
   "execution_count": null,
   "metadata": {},
   "outputs": [],
   "source": [
    "display(df_train['Class Index'].value_counts(), df_test['Class Index'].value_counts())"
   ]
  },
  {
   "cell_type": "markdown",
   "metadata": {},
   "source": [
    "To make the data more understandable, we will make the classes more understandable by adding a `class` column from the original `Class Index` column, containing the category of the news article. To process both the title and news text together, we will combine the `Title` and `Description` columns into one `text` column. We will just deal with the train data until the point where we need the test data again."
   ]
  },
  {
   "cell_type": "code",
   "execution_count": null,
   "metadata": {},
   "outputs": [],
   "source": [
    "def reformat_data(df):\n",
    "    \"\"\"\n",
    "    Reformat the Class Index column to a Class column and combine\n",
    "    the Title and Description columns into a Text column.\n",
    "    Select only the class_idx, class and text columns afterwards.\n",
    "    \n",
    "    Parameters\n",
    "    ----------\n",
    "    df : pandas.DataFrame\n",
    "        The original dataframe.\n",
    "         \n",
    "    Returns\n",
    "    -------\n",
    "    pandas.DataFrame\n",
    "        The reformatted dataframe.\n",
    "    \"\"\"\n",
    "    # Make the class column using a dictionary.\n",
    "    df = df.rename(columns={\"Class Index\": \"class_idx\"})\n",
    "    classes = {1: 'World', 2: 'Sports', 3: 'Business', 4: 'Sci/Tech'}\n",
    "    df['class'] = df['class_idx'].apply(classes.get)\n",
    "    \n",
    "    # Use string concatonation for the Text column and unesacpe html characters.\n",
    "    df['text'] = (df['Title'] + ' ' + df['Description']).apply(su.unescape)\n",
    "    \n",
    "    # Select only the Class and Text columns.\n",
    "    df = df[['class_idx', 'class', 'text']]\n",
    "    return df\n",
    "\n",
    "df_train = reformat_data(df_train)\n",
    "display(df_train)"
   ]
  },
  {
   "cell_type": "markdown",
   "metadata": {},
   "source": [
    "### Tokenization "
   ]
  },
  {
   "cell_type": "markdown",
   "metadata": {},
   "source": [
    "Tokenization is the process of breaking down a text into individual tokens, which are usually words but can also be phrases or sentences. It helps language models to understand and analyze text data by breaking it down into smaller, more manageable pieces. While it may seem like a trivial task, tokenization can be applied in multiple ways and thus be a complex and challenging task influencing NLP applications.\n",
    "\n",
    "For example, in languages like English, it is generally straightforward to identify words by using spaces as delimiters. However, there are exceptions, such as contractions like \"can't\" and hyphenated words like \"self-driving\". And in Dutch, where multiple nouns can be combined into one bigger noun without any delimiter this can be hard. How would you tokenize \"hippopotomonstrosesquippedaliofobie\"? In other languages, such as Chinese and Japanese, there are no spaces between words, so identifying word boundaries is much more difficult. \n",
    "\n",
    "To illustrate the use of tokenization, let's consider the following example, which tokenizes a sample text using the `word_tokenize` function from the NLTK package. That function uses a pre-trained tokenization model for English."
   ]
  },
  {
   "cell_type": "code",
   "execution_count": null,
   "metadata": {
    "scrolled": false
   },
   "outputs": [],
   "source": [
    "# Sample text.\n",
    "text = \"The quick brown fox jumped over the lazy dog. The cats couldn't wait to sleep all day.\"\n",
    "\n",
    "# Tokenize the text.\n",
    "tokens = word_tokenize(text)\n",
    "\n",
    "# Print the text and the tokens.\n",
    "print(\"Original text:\", text)\n",
    "print(\"Tokenized text:\", tokens)"
   ]
  },
  {
   "cell_type": "markdown",
   "metadata": {},
   "source": [
    "### Part-of-speech tagging"
   ]
  },
  {
   "cell_type": "markdown",
   "metadata": {},
   "source": [
    "Part-of-speech (POS) tagging is the process of assigning each word in a text corpus with a specific part-of-speech tag based on its context and definition. The tags typically include nouns, verbs, adjectives, adverbs, pronouns, preposition, conjunction, interjection, and more. POS tagging can help other NLP tasks disambiguate a token in some way due to the added context."
   ]
  },
  {
   "cell_type": "code",
   "execution_count": null,
   "metadata": {},
   "outputs": [],
   "source": [
    "pos_tags = nltk.pos_tag(tokens)\n",
    "print(pos_tags)"
   ]
  },
  {
   "cell_type": "markdown",
   "metadata": {},
   "source": [
    "### Stemming / lemmatization"
   ]
  },
  {
   "cell_type": "markdown",
   "metadata": {},
   "source": [
    "Stemming and lemmatization are two common techniques used in NLP to preprocess and normalize text data. Both techniques involve transforming words into their root form, but they differ in their approach and the level of normalization they provide.\n",
    "\n",
    "Stemming is a technique that involves reducing words to their base or stem form by removing any affixes or suffixes. For example, the stem of the word \"lazily\" would be \"lazi\". Stemming is a simple and fast technique that can be useful. However, it can also produce inaccurate or incorrect results since it does not consider the context or part of speech of the word.\n",
    "\n",
    "Lemmatization, on the other hand, is a more sophisticated technique that involves identifying the base or dictionary form of a word, also known as the lemma. Unlike stemming, lemmatization can consider the context and part of speech of the word, which can make it more accurate and reliable. With lemmatization, the lemma of the word \"lazily\" would be \"lazy\". Lemmatization can be slower and more complex than stemming but provides a higher level of normalization."
   ]
  },
  {
   "cell_type": "code",
   "execution_count": null,
   "metadata": {},
   "outputs": [],
   "source": [
    "# Initialize the stemmer and lemmatizer.\n",
    "stemmer = SnowballStemmer('english')\n",
    "lemmatizer = WordNetLemmatizer()\n",
    "\n",
    "def wordnet_pos(nltk_pos):\n",
    "    \"\"\"\n",
    "    Function to map POS tags to wordnet tags for lemmatizer.\n",
    "    \"\"\"\n",
    "    if nltk_pos.startswith('V'):\n",
    "        return wordnet.VERB\n",
    "    elif nltk_pos.startswith('J'):\n",
    "        return wordnet.ADJ\n",
    "    elif nltk_pos.startswith('R'):\n",
    "        return wordnet.ADV\n",
    "    return wordnet.NOUN\n",
    "\n",
    "# Perform stemming and lemmatization seperately on the tokens.\n",
    "stemmed_tokens = [stemmer.stem(token) for token in tokens]\n",
    "lemmatized_tokens = [lemmatizer.lemmatize(token, wordnet_pos(tag)) for token, tag in nltk.pos_tag(tokens)]\n",
    "\n",
    "# Print the results.\n",
    "print(\"Stemmed text:\", stemmed_tokens)\n",
    "print(\"Lemmatized text:\", lemmatized_tokens)"
   ]
  },
  {
   "cell_type": "markdown",
   "metadata": {},
   "source": [
    "### Stopword removal"
   ]
  },
  {
   "cell_type": "markdown",
   "metadata": {},
   "source": [
    "Stopword removal is a common technique used in NLP to preprocess and clean text data by removing words that are considered to be of little or no value in terms of conveying meaning or information. These words are called \"stopwords\" and they include common words such as \"the\", \"a\", \"an\", \"and\", \"or\", \"but\", and so on.\n",
    "\n",
    "The purpose of stopword removal in NLP is to improve the accuracy and efficiency of text analysis and processing by reducing the noise and complexity of the data. Stopwords are often used to form grammatical structures in a sentence, but they do not carry much meaning or relevance to the main topic or theme of the text. So by removing these words, we can reduce the dimensionality of the text data, improve the performance of machine learning models, and speed up the processing of text data. NLTK has a predefined list of stopwords for English."
   ]
  },
  {
   "cell_type": "code",
   "execution_count": null,
   "metadata": {},
   "outputs": [],
   "source": [
    "# English stopwords in NLTK.\n",
    "stopwords_list = stopwords.words('english')\n",
    "print(stopwords_list)"
   ]
  },
  {
   "cell_type": "markdown",
   "metadata": {},
   "source": [
    "### Assignment for Task 3"
   ]
  },
  {
   "cell_type": "markdown",
   "metadata": {},
   "source": [
    "**Your task (which is your assignment) is to write functions to do the following:**\n",
    "- Since we want to use our text to make a model later on, we need to preprocess it. Add a `tokens` column to the `df_train` dataframe with the text tokenized, then lemmatize those tokens. You must use the POS tags when lemmatizing.\n",
    "    - Hint: Use the `pandas.Series.apply` function with the imported `nltk.tokenize.word_tokenize` function. Recall that you can use the `pd.Series.apply?` syntax in a code cell for more information.\n",
    "    - Hint: use the `nltk.stem.WordNetLemmatizer.lemmatize` function to lemmatize a token. Use the `wordnet_pos` function to obtain the POS tag for the lemmatizer. \n",
    "    \n",
    "    Tokenizing and lemmatizing the entire dataset can take a while too. We use `tqdm` and the `pandas.Series.progress_apply` in the answer version to show progress bars for the operations.\n",
    "\n",
    "    Our goal is to have a dataframe that looks like the following:"
   ]
  },
  {
   "cell_type": "code",
   "execution_count": null,
   "metadata": {},
   "outputs": [],
   "source": [
    "answer_df = answer_tokenize_and_lemmatize(df_train)\n",
    "display(answer_df)"
   ]
  },
  {
   "cell_type": "markdown",
   "metadata": {},
   "source": [
    "- To see what the most used words per class are, create a new, seperate dataframe with the 5 most used words per class. Sort the resulting dataframe ascending on the `class` and descending on the `count`.\n",
    "    - Hint: use the `pandas.Series.apply` and `str.isalpha()` functions to filter out non-alphabetical tokens.\n",
    "    - Hint: use the `pandas.DataFrame.explode` to create one row per class and token.\n",
    "    - Hint: use `pandas.DataFrame.groupby` with `.size()` afterwards or `pandas.DataFrame.pivot_table` with `size` as the `aggfunc` to obtain the occurences per class.\n",
    "    - Hint: use the `pandas.Series.reset_index` function to obtain a dataframe with `[class, tokens, count]` as the columns.\n",
    "    - Hint: use the `pandas.DataFrame.sort_values` function for sorting a dataframe.\n",
    "    - Hint: use the `pandas.DataFrame.groupby` and `pandas.DataFrame.head` functions to get the first 5 rows per class.\n",
    "        \n",
    "    Our goal is to have a dataframe that looks like the following:"
   ]
  },
  {
   "cell_type": "code",
   "execution_count": null,
   "metadata": {},
   "outputs": [],
   "source": [
    "display(answer_most_used_words(answer_df))"
   ]
  },
  {
   "cell_type": "markdown",
   "metadata": {},
   "source": [
    "- Remove the stopwords from the `tokens` column in the `df_train` dataframe. Do the most used tokens say something about the class now?\n",
    "    - Hint: once again, you can use the `pandas.Series.apply` function. \n",
    "    \n",
    "    The top 5 words per class should look like this after removing stopwords:"
   ]
  },
  {
   "cell_type": "code",
   "execution_count": null,
   "metadata": {},
   "outputs": [],
   "source": [
    "answer_df = answer_remove_stopwords(answer_df)\n",
    "display(answer_most_used_words(answer_df))"
   ]
  },
  {
   "cell_type": "code",
   "execution_count": null,
   "metadata": {},
   "outputs": [],
   "source": [
    "def tokenize_and_lemmatize(df):\n",
    "    \"\"\"\n",
    "    Tokenize and lemmatize the text in the dataset.\n",
    "    \n",
    "    Parameters\n",
    "    ----------\n",
    "    df : pandas.DataFrame\n",
    "        The dataframe containing at least the text column.\n",
    "         \n",
    "    Returns\n",
    "    -------\n",
    "    pandas.DataFrame\n",
    "        The dataframe with the added tokens column.\n",
    "    \"\"\"\n",
    "    ###################################\n",
    "    # Fill in your answer here\n",
    "    return None\n",
    "    ###################################\n",
    "\n",
    "\n",
    "def most_used_words(df, token_col='tokens'):\n",
    "    \"\"\"\n",
    "    Generate a dataframe with the 5 most used words per class, and their count.\n",
    "    \n",
    "    Parameters\n",
    "    ----------\n",
    "    df : pandas.DataFrame\n",
    "        The dataframe containing at least the class and tokens columns.\n",
    "         \n",
    "    Returns\n",
    "    -------\n",
    "    pandas.DataFrame\n",
    "        The dataframe with 5 rows per class, and an added 'count' column.\n",
    "        The dataframe is sorted in ascending order on the class and in descending order on the count.\n",
    "    \"\"\"\n",
    "    ###################################\n",
    "    # Fill in your answer here\n",
    "    return None\n",
    "    ###################################\n",
    "\n",
    "def remove_stopwords(df):\n",
    "    \"\"\"\n",
    "    Remove stopwords from the tokens.\n",
    "    \n",
    "    Parameters\n",
    "    ----------\n",
    "    df : pandas.DataFrame\n",
    "        The dataframe containing at least the tokens column.\n",
    "         \n",
    "    Returns\n",
    "    -------\n",
    "    pandas.DataFrame\n",
    "        The dataframe with stopwords removed from the tokens column.\n",
    "    \"\"\"\n",
    "    ###################################\n",
    "    # Fill in your answer here\n",
    "    return None\n",
    "    ###################################\n",
    "    \n",
    "df_train = remove_stopwords(tokenize_and_lemmatize(df_train))"
   ]
  },
  {
   "cell_type": "markdown",
   "metadata": {},
   "source": [
    "The code below tests if all your functions combined match the expected output."
   ]
  },
  {
   "cell_type": "code",
   "execution_count": null,
   "metadata": {},
   "outputs": [],
   "source": [
    "check_answer_df(most_used_words(df_train), answer_most_used_words(answer_df))"
   ]
  },
  {
   "cell_type": "markdown",
   "metadata": {},
   "source": [
    "## Task 4: Another option: spaCy"
   ]
  },
  {
   "cell_type": "markdown",
   "metadata": {},
   "source": [
    "spaCy is another library used to perform various NLP tasks like tokenization, part-of-speech tagging, named entity recognition, dependency parsing, and much more. It provides pre-trained models for different languages and domains, which can be used as-is but also can be fine-tuned on a specific task or domain.\n",
    "\n",
    "In an object-oriented way, spaCy can be thought of as a collection of classes and objects that work together to perform NLP tasks. Some of the important functions and classes in spaCy include:\n",
    "\n",
    "- `nlp`: The core function that provides the main functionality of spaCy. It is used to process text and create a `Doc` object.\n",
    "- [`Doc`](https://spacy.io/api/doc): A container for accessing linguistic annotations like tokens, part-of-speech tags, named entities, and dependency parse information. It is created by the `nlp` function and represents a processed document.\n",
    "- [`Token`](https://spacy.io/api/token): An object representing a single token in a `Doc` object. It contains information like the token text, part-of-speech tag, lemma, embedding, and much more.\n",
    "\n",
    "When a text is processed by spaCy, it is first passed to the nlp function, which uses the loaded model to tokenize the text and applies various linguistic annotations like part-of-speech tagging, named entity recognition, and dependency parsing in the background. The resulting annotations are stored in a Doc object, which can be accessed and manipulated using various methods and attributes. For example, the Doc object can be iterated over to access each Token object in the document."
   ]
  },
  {
   "cell_type": "code",
   "execution_count": null,
   "metadata": {},
   "outputs": [],
   "source": [
    "# Load the small English model in spaCy.\n",
    "# Disable Named Entity Recognition in the model pipeline since we're not using it.\n",
    "nlp = spacy.load(\"en_core_web_sm\", disable=['ner'])\n",
    "\n",
    "# Process the text using spaCy.\n",
    "doc = nlp(text)\n",
    "\n",
    "# This becomes a spaCy Doc object, which prints nicely as the original string.\n",
    "print(type(doc) , doc)\n",
    "\n",
    "# We can iterate over the tokens in the Doc, since it has already been tokenized underneath.\n",
    "print(type(doc[0]))\n",
    "for token in doc:\n",
    "    print(token)"
   ]
  },
  {
   "cell_type": "markdown",
   "metadata": {},
   "source": [
    "Since a lot of processing has already been done, we can also directly access multiple attributes of the `Token` objects. For example, we can directly access the lemma of the token with `Token.lemma_` and check if a token is a stop word with `Token.is_stop`."
   ]
  },
  {
   "cell_type": "code",
   "execution_count": null,
   "metadata": {},
   "outputs": [],
   "source": [
    "print(doc[0].lemma_, type(doc[0].lemma_), doc[0].is_stop, type(doc[0].is_stop))"
   ]
  },
  {
   "cell_type": "markdown",
   "metadata": {},
   "source": [
    "Here is the code to add a column with a `Doc` representation of the `text` column to the dataframe. Executing this cell takes several minutes, so we added a progress bar."
   ]
  },
  {
   "cell_type": "code",
   "execution_count": null,
   "metadata": {},
   "outputs": [],
   "source": [
    "def add_spacy(df):\n",
    "    \"\"\"\n",
    "    Add a column with the spaCy Doc objects.\n",
    "    \n",
    "    Parameters\n",
    "    ----------\n",
    "    df : pandas.DataFrame\n",
    "        The dataframe containing at least the text column.\n",
    "         \n",
    "    Returns\n",
    "    -------\n",
    "    pandas.DataFrame\n",
    "        The dataframe with the added doc column.\n",
    "    \"\"\"\n",
    "    # Copy the dataframe to avoid editing the original one.\n",
    "    df = df.copy(deep=True)\n",
    "    \n",
    "    df['doc'] = [doc for doc in tqdm(nlp.pipe(df['text']), total=df.shape[0])]\n",
    "    \n",
    "    return df\n",
    "\n",
    "df_train = add_spacy(answer_df)\n",
    "display(df_train)"
   ]
  },
  {
   "cell_type": "markdown",
   "metadata": {},
   "source": [
    "### Assignment for Task 4"
   ]
  },
  {
   "cell_type": "markdown",
   "metadata": {},
   "source": [
    "**Your task (which is your assignment) is to write a function to do the following:**\n",
    "- Add a `spacy_tokens` column containing the to the `df_train` dataframe containing a list of lemmatized tokens (strings).\n",
    "    \n",
    "    Our goal is to have a dataframe that looks like the following:"
   ]
  },
  {
   "cell_type": "code",
   "execution_count": null,
   "metadata": {},
   "outputs": [],
   "source": [
    "answer_df = answer_spacy_tokens(df_train)\n",
    "display(answer_df)"
   ]
  },
  {
   "cell_type": "code",
   "execution_count": null,
   "metadata": {},
   "outputs": [],
   "source": [
    "from tqdm.notebook import tqdm\n",
    "\n",
    "def spacy_tokens(df):\n",
    "    \"\"\"\n",
    "    Add a column with a list of lemmatized tokens, without stopwords.\n",
    "    \n",
    "    Parameters\n",
    "    ----------\n",
    "    df : pandas.DataFrame\n",
    "        The dataframe containing at least the doc column.\n",
    "         \n",
    "    Returns\n",
    "    -------\n",
    "    pandas.DataFrame\n",
    "        The dataframe with the spacy_tokens column.\n",
    "    \"\"\"\n",
    "    ###################################\n",
    "    # Fill in your answer here\n",
    "    return None\n",
    "    ###################################\n",
    "\n",
    "df_train = spacy_tokens(df_train)"
   ]
  },
  {
   "cell_type": "markdown",
   "metadata": {},
   "source": [
    "The code below tests if the function matches the expected output."
   ]
  },
  {
   "cell_type": "code",
   "execution_count": null,
   "metadata": {},
   "outputs": [],
   "source": [
    "check_answer_df(df_train, answer_df)"
   ]
  },
  {
   "cell_type": "markdown",
   "metadata": {},
   "source": [
    "We use the answer version of the `most_used_words` function to again display the top 5 words per class in the dataset. Do you see some differences between the lemmatized tokens obtained from NLTK and spaCy?"
   ]
  },
  {
   "cell_type": "code",
   "execution_count": null,
   "metadata": {},
   "outputs": [],
   "source": [
    "display(answer_most_used_words(answer_df, 'spacy_tokens'))"
   ]
  },
  {
   "cell_type": "markdown",
   "metadata": {},
   "source": [
    "## Task 5: Unsupervised Learning - Topic Modelling"
   ]
  },
  {
   "cell_type": "markdown",
   "metadata": {},
   "source": [
    "Topic modeling is a technique used in NLP that aims to identify the underlying topics or themes in a collection of texts. One way to perform topic modelling is using the probabilistic model Latent Dirichlet Allocation (LDA).\n",
    "\n",
    "LDA assumes that each document in a collection is a mixture of different topics, and each topic is a probability distribution over a set of words. The model then infers the underlying topic distribution for each document in the collection and the word distribution for each topic. LDA is trained using an iterative algorithm that maximizes the likelihood of observing the given documents.\n",
    "\n",
    "To use LDA, we need to represent the documents as a bag of words, where the order of the words is ignored and only the frequency of each word in the document is considered. This bag-of-words representation allows us to represent each document as a vector of word frequencies, which can be used as input to the LDA algorithm. The Topic Modelling might take a moment on our dataset size."
   ]
  },
  {
   "cell_type": "code",
   "execution_count": null,
   "metadata": {},
   "outputs": [],
   "source": [
    "# Use the dataframe from the previous task.\n",
    "df_train = answer_df\n",
    "\n",
    "# Define the number of topics to model with LDA.\n",
    "num_topics = 4\n",
    "\n",
    "# Convert preprocessed text to bag-of-words representation using CountVectorizer.\n",
    "vectorizer = CountVectorizer(max_features=50000)\n",
    "\n",
    "# fit_transform requires either a string as input or multiple extra arguments and functions, so turn tokens into string.\n",
    "X = vectorizer.fit_transform(df_train['spacy_tokens'].apply(lambda x: ' '.join(x)).values)\n",
    "\n",
    "# Fit LDA to the feature matrix.\n",
    "lda = LatentDirichletAllocation(n_components=num_topics, max_iter=10, random_state=42, verbose=True)\n",
    "lda.fit(X)\n",
    "\n",
    "# Extract the topic proportions for each document.\n",
    "doc_topic_proportions = lda.transform(X)"
   ]
  },
  {
   "cell_type": "markdown",
   "metadata": {},
   "source": [
    "Using this function, we can look at the most important words per topic. Do you see any similarities with the most occuring words per class after stopword removal?"
   ]
  },
  {
   "cell_type": "code",
   "execution_count": null,
   "metadata": {},
   "outputs": [],
   "source": [
    "def n_top_wordlist(model, features, ntopwords=5):\n",
    "    \"\"\"\n",
    "    Add a column with a list of lemmatized tokens, without stopwords.\n",
    "    \"\"\"\n",
    "    output = {}\n",
    "    for topic_idx, topic in enumerate(model.components_):\n",
    "        output[topic_idx] = [features[i] for i in topic.argsort()[:-ntopwords - 1:-1]]\n",
    "    return output\n",
    "\n",
    "# Get the words from the CountVectorizer.\n",
    "tf_feature_names = vectorizer.get_feature_names_out()\n",
    "\n",
    "display(n_top_wordlist(lda, tf_feature_names))"
   ]
  },
  {
   "cell_type": "markdown",
   "metadata": {},
   "source": [
    "### Evaluation"
   ]
  },
  {
   "cell_type": "markdown",
   "metadata": {},
   "source": [
    "Adjusted Mutual Information (AMI) and Adjusted Rand Index (ARI) are two metrics used to evaluate the performance of clustering algorithms.\n",
    "\n",
    "AMI is a measure that takes into account the possibility of two random clusters appearing to be similar. It is calculated as the difference between the Mutual Information (MI) of two clusterings and the expected MI, divided by the average entropy of the two clusterings minus the expected MI. AMI ranges between 0 and 1, where 0 indicates no agreement between the two clusterings and 1 indicates identical clusterings.\n",
    "\n",
    "The Rand Index (RI) is a measure that counts the number of pairs of samples that are assigned to the same or different clusters in both the predicted and true clusterings. The raw RI score is then adjusted for chance into the ARI score using a scheme similar to that of AMI. For ARI a score of 0 indicates random labeling and 1 indicates perfect agreement. The ARI is bounded below by -0.5 for very large differences in labeling."
   ]
  },
  {
   "cell_type": "markdown",
   "metadata": {},
   "source": [
    "### Assignment for Task 5"
   ]
  },
  {
   "cell_type": "markdown",
   "metadata": {},
   "source": [
    "**Your task (which is your assignment) is to write a function to do the following:**\n",
    "- The `doc_topic_proportions` contains the proportions of how much that document belongs to every topic. For every document, get the topic in which it has the largest proportion. Afterwards, look at the AMI and ARI scores. Can you improve the scores by modeling more topics, using a different set of tokens or using a larger amount of epochs?\n",
    "    - Hint: use the `numpy.argmax` function.\n",
    "    \n",
    "    Our goal is to get an array which looks like the following:"
   ]
  },
  {
   "cell_type": "code",
   "execution_count": null,
   "metadata": {},
   "outputs": [],
   "source": [
    "answer_topic_most = answer_largest_proportion(doc_topic_proportions)\n",
    "print(answer_topic_most, answer_topic_most.shape)"
   ]
  },
  {
   "cell_type": "code",
   "execution_count": null,
   "metadata": {},
   "outputs": [],
   "source": [
    "def largest_proportion(arr):\n",
    "    \"\"\"\n",
    "    For every row, get the column number where it has the largest value.\n",
    "    \n",
    "    Parameters\n",
    "    ----------\n",
    "    arr : numpy.array\n",
    "        The array with the amount of topics as the amount of columns\n",
    "        and the amount of documents as the number of rows.\n",
    "        Every row should sum up to 1.\n",
    "         \n",
    "    Returns\n",
    "    -------\n",
    "    numpy.array\n",
    "        The 1-dimensional array containing the label of the topic\n",
    "        the document has the largest proportion in.\n",
    "    \"\"\"\n",
    "    ###################################\n",
    "    # Fill in your answer here\n",
    "    return None\n",
    "    ###################################"
   ]
  },
  {
   "cell_type": "markdown",
   "metadata": {},
   "source": [
    "The code below tests if the function matches the expected output."
   ]
  },
  {
   "cell_type": "code",
   "execution_count": null,
   "metadata": {},
   "outputs": [],
   "source": [
    "topic_most = largest_proportion(doc_topic_proportions)\n",
    "\n",
    "check_answer_np(topic_most, answer_topic_most)"
   ]
  },
  {
   "cell_type": "code",
   "execution_count": null,
   "metadata": {},
   "outputs": [],
   "source": [
    "ami_score = adjusted_mutual_info_score(df_train['class'], answer_topic_most)\n",
    "ari_score = adjusted_rand_score(df_train['class'], answer_topic_most)\n",
    "\n",
    "print(f\"Adjusted mutual information score: {ami_score:.2f}\")\n",
    "print(f\"Adjusted rand score: {ari_score:.2f}\")"
   ]
  },
  {
   "cell_type": "markdown",
   "metadata": {},
   "source": [
    "Do some topics get (way) more documents assigned to them than others? Let's take a look."
   ]
  },
  {
   "cell_type": "code",
   "execution_count": null,
   "metadata": {},
   "outputs": [],
   "source": [
    "unique, counts = np.unique(answer_topic_most, return_counts=True)\n",
    "\n",
    "print(dict(zip(unique, counts)))"
   ]
  },
  {
   "cell_type": "markdown",
   "metadata": {},
   "source": [
    "## Task 6: Word Embeddings"
   ]
  },
  {
   "cell_type": "markdown",
   "metadata": {},
   "source": [
    "Word embeddings represent words as vectors in a high-dimensional space. The key idea behind word embeddings is that words with similar meanings tend to appear in similar contexts, and therefore their vector representations should be close together in this high-dimensional space. Word embeddings have been widely used in various NLP tasks such as sentiment analysis, machine translation, and information retrieval.\n",
    "\n",
    "There are several techniques to generate word embeddings, but one of the most popular methods is the Word2Vec algorithm, which is based on a neural network architecture. Word2Vec learns embeddings by predicting the probability of a word given its context (continuous bag of words or skip-gram model). The output of the network is a set of word vectors that can be used as embeddings.\n",
    "\n",
    "We can train a Word2Vec model ourselves, but keep in mind that later on it's not nice if we don't have embeddings for certain words in the test set. So let's first apply the familiar preprocessing steps to the test set:"
   ]
  },
  {
   "cell_type": "code",
   "execution_count": null,
   "metadata": {},
   "outputs": [],
   "source": [
    "# Reformat df_test.\n",
    "df_test = reformat_data(df_test)\n",
    "\n",
    "# NLTK preprocessing.\n",
    "df_test = answer_remove_stopwords(answer_tokenize_and_lemmatize(df_test))\n",
    "\n",
    "# spaCy preprocessing.\n",
    "df_test = answer_spacy_tokens(add_spacy(df_test))\n",
    "\n",
    "display(df_test)"
   ]
  },
  {
   "cell_type": "markdown",
   "metadata": {},
   "source": [
    "To obtain the complete model, we combine the `tokens` column into one series and call the `Word2Vec` function."
   ]
  },
  {
   "cell_type": "code",
   "execution_count": null,
   "metadata": {},
   "outputs": [],
   "source": [
    "df_both = pd.concat([df_train, df_test])\n",
    "\n",
    "tokens_both = df_both['tokens']\n",
    "\n",
    "# Train a Word2Vec model on the NLTK tokens.\n",
    "model = Word2Vec(tokens_both.values, vector_size=96, min_count=1)"
   ]
  },
  {
   "cell_type": "markdown",
   "metadata": {},
   "source": [
    "To obtain the embeddings, we can use the `Word2Vec.wv[word]` syntax. To get multiple vectors nicely next to eachother in a 2D matrix, we can call `numpy.vstack`."
   ]
  },
  {
   "cell_type": "code",
   "execution_count": null,
   "metadata": {},
   "outputs": [],
   "source": [
    "print(np.vstack([model.wv[word] for word in [\"rain\", \"cat\", \"dog\"]]))"
   ]
  },
  {
   "cell_type": "markdown",
   "metadata": {},
   "source": [
    "The spaCy model we used has a `Tok2Vec` algorithm in its pipeline, so we can directly access the the 2D matrix of all word vectors on a document with the `Doc.tensor` attribute."
   ]
  },
  {
   "cell_type": "code",
   "execution_count": null,
   "metadata": {},
   "outputs": [],
   "source": [
    "print(doc.tensor)"
   ]
  },
  {
   "cell_type": "markdown",
   "metadata": {},
   "source": [
    "### Assignment for Task 6"
   ]
  },
  {
   "cell_type": "markdown",
   "metadata": {},
   "source": [
    "**Your task (which is your assignment) is to write a function to do the following:**\n",
    "\n",
    "- First, sample 10% from both datasets, we're not going to be using all the data for the neural network.\n",
    "    - Hint: use the `pandas.DataFrame.sample` function to sample a fraction of the data. Specify a `random_state` value to always get the same rows from the dataframe.\n",
    "- Add a `tensor` column to both the test and train dataframes, the column should hold one array per row, containing all the word embedding vectors as columns. You can chose whether to use vectors from our new model or the ones from spaCy.\n",
    "- Determine the largest amount of columns in the `tensor` column, between both datasets.\n",
    "    - Hint: use the `numpy.ndarray.shape` attribute to see the dimensions of an array. \n",
    "    - Hint: use the `pd.Series.max` function to determine the largest item in a series.\n",
    "- Pad all arrays in the `tensor` column to the that number of columns, by adding columns of zeroes in the end. This way all our inputs for a neural network have the same size.\n",
    "    - Hint: use the `numpy.pad` function to pad an aray.\n",
    "    \n",
    "    After the function, our `df_train` could look like the following:"
   ]
  },
  {
   "cell_type": "code",
   "execution_count": null,
   "metadata": {},
   "outputs": [],
   "source": [
    "answer_df_train, answer_df_test = add_padded_tensors(answer_df, df_test)\n",
    "display(answer_df_train)"
   ]
  },
  {
   "cell_type": "code",
   "execution_count": null,
   "metadata": {},
   "outputs": [],
   "source": [
    "def add_padded_tensors(df1, df2):\n",
    "    \"\"\"\n",
    "    Add a tensor column to the dataframes, with every tensor having the same dimensions.\n",
    "    \n",
    "    Parameters\n",
    "    ----------\n",
    "    df_train : pandas.DataFrame\n",
    "        The first dataframe containing at least the tokens or doc columns.\n",
    "    df_test : pandas.DataFrame\n",
    "        The second dataframe containing at least the tokens or doc columns.\n",
    "         \n",
    "    Returns\n",
    "    -------\n",
    "    tuple[pandas.DataFrame]\n",
    "        The dataframes with the added tensor column.\n",
    "    \"\"\"\n",
    "    # Copy the dataframes to avoid editing the originals.\n",
    "    df1 = df1.copy(deep=True)\n",
    "    df2 = df2.copy(deep=True)\n",
    "    \n",
    "    df1 = df1.sample(frac=0.1, random_state=42)\n",
    "    df2 = df2.sample(frac=0.1, random_state=42)\n",
    "    \n",
    "    # Add tensors (option 1: our own model)\n",
    "    for df in [df1, df2]:\n",
    "        df['tensor'] = df['tokens'].apply(lambda tokens: np.vstack([model.wv[token] for token in tokens]))\n",
    "    \n",
    "    # Add tensors (option 2: spaCy tensors).\n",
    "    for df in [df1, df2]:\n",
    "        df['tensor'] = df['doc'].apply(lambda doc: doc.tensor)\n",
    "    \n",
    "    # Determine the largest amount of columns.\n",
    "    largest = max(df1['tensor'].apply(lambda x: x.shape[0]).max(), \n",
    "                  df2['tensor'].apply(lambda x: x.shape[0]).max())\n",
    "    \n",
    "    # Pad our tensors to that amount.\n",
    "    for df in [df1, df2]:\n",
    "        df['tensor'] = df['tensor'].apply(lambda x: np.pad(x, ((0, largest - x.shape[0]), (0,0))))\n",
    "    \n",
    "    return df1, df2"
   ]
  },
  {
   "cell_type": "markdown",
   "metadata": {},
   "source": [
    "The code below tests if the function matches the expected output."
   ]
  },
  {
   "cell_type": "code",
   "execution_count": null,
   "metadata": {},
   "outputs": [],
   "source": [
    "try:\n",
    "    assert df_train['tensor'].apply(lambda x: x.shape).unique() == df_test['tensor'].apply(lambda x: x.shape).unique()\n",
    "    print(\"Test case passed.\")\n",
    "except:\n",
    "    print(\"Test case failed. Not all tensor sizes are equal.\")"
   ]
  },
  {
   "cell_type": "markdown",
   "metadata": {},
   "source": [
    "## Task 7: Supervised Learning - Topic Classification"
   ]
  },
  {
   "cell_type": "markdown",
   "metadata": {},
   "source": [
    "- Using the word embeddings features, train a small neural net \n",
    "- Don't give the full torch code, only one layer to let them do something with torch\n",
    "- Evaluate using confusion matrix against true features\n",
    "- Let students be able to tune parameters + n_layers to see if they get better results\n",
    "\n",
    "Sources:\n",
    "- https://pytorch.org/tutorials/beginner/hyperparameter_tuning_tutorial.html\n",
    "- https://pytorch.org/tutorials/beginner/text_sentiment_ngrams_tutorial.html"
   ]
  },
  {
   "cell_type": "code",
   "execution_count": null,
   "metadata": {},
   "outputs": [],
   "source": [
    "df_test = spacy_tokens(add_spacy(reformat_data(df_test)))"
   ]
  },
  {
   "cell_type": "code",
   "execution_count": null,
   "metadata": {},
   "outputs": [],
   "source": [
    "most_used_words(df_test, 'spacy_tokens')"
   ]
  },
  {
   "cell_type": "code",
   "execution_count": null,
   "metadata": {},
   "outputs": [],
   "source": [
    "df_train = df_train.sample(frac=0.1, random_state=42)    \n",
    "df_test = df_train.sample(frac=0.1, random_state=42)   "
   ]
  },
  {
   "cell_type": "code",
   "execution_count": null,
   "metadata": {},
   "outputs": [],
   "source": [
    "# import torch\n",
    "# import torch.nn as nn\n",
    "# import torch.optim as optim\n",
    "# from torch.utils.data import Dataset, DataLoader\n",
    "# from sklearn.metrics import confusion_matrix\n",
    "# import seaborn as sns\n",
    "# import pandas as pd\n",
    "# import numpy as np\n",
    "# from torch.nn.utils.rnn import pad_sequence\n",
    "\n",
    "\n",
    "# # Define the neural network model\n",
    "# class Net(nn.Module):\n",
    "#     def __init__(self, input_size, hidden_size, output_size):\n",
    "#         super(Net, self).__init__()\n",
    "#         self.fc1 = nn.Linear(input_size, hidden_size)\n",
    "#         self.fc2 = nn.Linear(hidden_size, output_size)\n",
    "\n",
    "#     def forward(self, x):\n",
    "#         x = nn.functional.relu(self.fc1(x))\n",
    "#         x = self.fc2(x)\n",
    "#         return x\n",
    "\n",
    "# # Define the dataset\n",
    "# class MyDataset(Dataset):\n",
    "#     def __init__(self, data):\n",
    "#         self.data = data\n",
    "\n",
    "#     def __getitem__(self, index):\n",
    "#         x = self.data.iloc[index]['tensor']\n",
    "#         y = self.data.iloc[index]['class_idx']\n",
    "#         return x, y\n",
    "\n",
    "#     def __len__(self):\n",
    "#         return len(self.data) \n",
    "\n",
    "# # Combine train and test sets\n",
    "# combined_df = pd.concat([df_train, df_test], axis=0)\n",
    "\n",
    "# # Get the maximum sequence length\n",
    "# max_seq_length = combined_df['tensor'].apply(lambda x: x.shape[1])\n",
    "\n",
    "# # Pad the sequences to the maximum length\n",
    "# train_padded = pad_sequence(df_train['tensor'], batch_first=True, padding_value=0, total_length=max_seq_length)\n",
    "# test_padded = pad_sequence(df_test['tensor'], batch_first=True, padding_value=0, total_length=max_seq_length)\n",
    "\n",
    "# # Convert labels to tensors\n",
    "# train_y = torch.tensor(df_train['class_idx'].values)\n",
    "# test_y = torch.tensor(df_test['class_idx'].values)\n",
    "\n",
    "# # Define hyperparameters\n",
    "# learning_rate = 0.01\n",
    "# epochs = 10\n",
    "# hidden_size = 12\n",
    "# output_size = 4\n",
    "\n",
    "# # Initialize the model, loss function, and optimizer\n",
    "# net = Net(max_input_size, hidden_size, output_size)\n",
    "# criterion = nn.CrossEntropyLoss()\n",
    "# optimizer = optim.SGD(net.parameters(), lr=learning_rate)\n",
    "\n",
    "# # Create dataloaders for the train and test datasets\n",
    "# train_dataset = MyDataset(df_train)\n",
    "# test_dataset = MyDataset(df_test)\n",
    "# train_loader = DataLoader(train_dataset, batch_size=20, shuffle=True)\n",
    "# test_loader = DataLoader(test_dataset, batch_size=1, shuffle=False)\n",
    "\n",
    "# # Train the model\n",
    "# for epoch in range(epochs):\n",
    "#     running_loss = 0.0\n",
    "#     for i, data in enumerate(train_loader, 0):\n",
    "#         inputs, labels = data\n",
    "#         inputs = torch.tensor(inputs.tolist(), dtype=torch.float32)\n",
    "#         labels = torch.tensor(labels.tolist(), dtype=torch.long)\n",
    "\n",
    "#         optimizer.zero_grad()\n",
    "\n",
    "#         outputs = net(inputs)\n",
    "\n",
    "#         loss = criterion(outputs, labels)\n",
    "#         loss.backward()\n",
    "#         optimizer.step()\n",
    "\n",
    "#         running_loss += loss.item()\n",
    "\n",
    "#     print(f\"Epoch {epoch+1} loss: {running_loss/len(train_loader)}\")\n",
    "\n",
    "# # Evaluate the model on the train and test sets\n",
    "# with torch.no_grad():\n",
    "#     train_pred = model(train_padded)\n",
    "#     test_pred = model(test_padded)\n",
    "\n",
    "#     # Get the predicted class for each set\n",
    "#     train_pred_class = train_pred.argmax(dim=1)\n",
    "#     test_pred_class = test_pred.argmax(dim=1)\n",
    "\n",
    "#     # Calculate accuracy and print confusion matrix for train set\n",
    "#     train_accuracy = accuracy_score(train_y, train_pred_class)\n",
    "#     train_confusion_matrix = confusion_matrix(train_y, train_pred_class)\n",
    "#     print(\"Train accuracy:\", train_accuracy)\n",
    "#     print(\"Train confusion matrix:\\n\", train_confusion_matrix)\n",
    "\n",
    "#     # Calculate accuracy and print confusion matrix for test set\n",
    "#     test_accuracy = accuracy_score(test_y, test_pred_class)\n",
    "#     test_confusion_matrix = confusion_matrix(test_y, test_pred_class)\n",
    "#     print(\"Test accuracy:\", test_accuracy)\n",
    "#     print(\"Test confusion matrix:\\n\", test_confusion_matrix)"
   ]
  }
 ],
 "metadata": {
  "kernelspec": {
   "display_name": "Python 3 (ipykernel)",
   "language": "python",
   "name": "python3"
  },
  "language_info": {
   "codemirror_mode": {
    "name": "ipython",
    "version": 3
   },
   "file_extension": ".py",
   "mimetype": "text/x-python",
   "name": "python",
   "nbconvert_exporter": "python",
   "pygments_lexer": "ipython3",
   "version": "3.8.16"
  }
 },
 "nbformat": 4,
 "nbformat_minor": 2
}
